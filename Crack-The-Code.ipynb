{
 "cells": [
  {
   "cell_type": "code",
   "execution_count": 2,
   "metadata": {},
   "outputs": [],
   "source": [
    "import random"
   ]
  },
  {
   "cell_type": "code",
   "execution_count": 3,
   "metadata": {},
   "outputs": [],
   "source": [
    "def randomNumberLock():\n",
    "    lock_code = random.sample(range(0, 9), 3)\n",
    "    return lock_code"
   ]
  },
  {
   "cell_type": "code",
   "execution_count": 4,
   "metadata": {},
   "outputs": [
    {
     "name": "stdout",
     "output_type": "stream",
     "text": [
      "[4, 1, 6]\n"
     ]
    }
   ],
   "source": [
    "Code = randomNumberLock()\n",
    "print(Code)"
   ]
  },
  {
   "cell_type": "code",
   "execution_count": 5,
   "metadata": {},
   "outputs": [],
   "source": [
    "def pista1(Code):                                 #Crear funcion pista 1 (Numero esta bien y bien ubicado)\n",
    "    \n",
    "    correct_number = random.choice(Code)          #random.choice elige un numero al azar de la lista de Codigo, \n",
    "                                                  #generando un numero correcto que se le es asignado a correct_number.\n",
    "    \n",
    "    sample_list = list(range(10))                 #Crea lista inicial, en el siguiente for loop se remueven los \n",
    "    for i in Code:                                #elementos del Codigo para que no sean repetidos en el momento\n",
    "        sample_list.remove(i)                     #de asignarlos a la pista.  \n",
    "        \n",
    "    pista1 = random.sample(sample_list, 2)        #De la lista anterior, se toman 2 numeros para asignarle a la pista\n",
    "    pista1.append((correct_number))               #y se le asigna el numero correcto al final de la lista.\n",
    "\n",
    "    for n in Code:                                              #Este nested for loop compara individualmente cada \n",
    "        for i in range(len(pista1)):                            #numero en Code con todos los numeros de la pista1\n",
    "            if n == pista1[i]:                                  #para encontrar el numero correcto y posicionarlo\n",
    "                j = Code.index(n)                               #en la posicion correcta mediante los indices.\n",
    "                pista1[i], pista1[j] = pista1[j], pista1[i]\n",
    "                break\n",
    "\n",
    "    return pista1"
   ]
  },
  {
   "cell_type": "code",
   "execution_count": 6,
   "metadata": {},
   "outputs": [],
   "source": [
    "def pista2(Code):                                 #Crear funcion pista 2 (Numero esta bien pero mal ubicado)\n",
    "    \n",
    "    global correct_number2                        #Se declara la variable como global para la pista 4\n",
    "    \n",
    "    correct_number2 = random.choice(Code)         #random.choice elige un numero al azar de la lista de Codigo, \n",
    "                                                  #generando un numero correcto que se le es asignado a correct_number.\n",
    "    \n",
    "    sample_list = list(range(10))                 #Crea lista inicial, en el siguiente for loop se remueven los \n",
    "    for i in Code:                                #elementos del Codigo para que no sean repetidos en el momento\n",
    "        sample_list.remove(i)                     #de asignarlos a la pista.  \n",
    "        \n",
    "    pista2 = random.sample(sample_list, 2)        #De la lista anterior, se toman 2 numeros para asignarle a la pista\n",
    "    pista2.append((correct_number2))              #y se le asigna el numero correcto al final de la lista, despues de\n",
    "    random.shuffle(pista2)                        #eso se mueven los valores de forma aleatoria con el proposito de\n",
    "                                                  #que el numero correcto no quede en la ultima posicion.\n",
    "    \n",
    "    for i in range(len(Code)):                    #Dentro de este for loop se checa si el numero correcto no queda en\n",
    "        while pista2[i] == Code[i]:               #la misma posicion que un numero dentro del codigo original, si se\n",
    "            random.shuffle(pista2)                #cumple True, se vuelven a mover los valores.\n",
    "          \n",
    "    return pista2"
   ]
  },
  {
   "cell_type": "code",
   "execution_count": 7,
   "metadata": {},
   "outputs": [],
   "source": [
    "def pista3(Code):                                 #Crear funcion pista 3 (Ningun numero esta bien)\n",
    "    \n",
    "    sample_list = list(range(10))                 #Crea lista inicial, en el siguiente for loop se remueven los \n",
    "    for i in Code:                                #elementos del Codigo para que no sean repetidos en el momento\n",
    "        sample_list.remove(i)                     #de asignarlos a la pista. \n",
    "\n",
    "    pista3 = random.sample(sample_list, 3)        #Asigna 3 numeros aleatorios de la lista.\n",
    "           \n",
    "    return pista3"
   ]
  },
  {
   "cell_type": "code",
   "execution_count": 8,
   "metadata": {},
   "outputs": [],
   "source": [
    "def pista4(Code):                                 #Crear funcion pista 4 (Numero esta bien pero mal ubicado)\n",
    "    \n",
    "    numbers = random.sample(Code, 3)              #Se crea una nueva lista conteniendo los numeros del codigo y se\n",
    "    global correct_number2                        #llama a la funcion global para quitar de la lista el numero que\n",
    "    numbers.remove(correct_number2)               #se utilizo para la pista 2.\n",
    "    \n",
    "    correct_number = random.choice(numbers)       #random.choice elige un numero al azar de la nueva lista numbers y se \n",
    "                                                  #generando un numero correcto que se le es asignado a correct_number.\n",
    "    \n",
    "    sample_list = list(range(10))                 #Crea lista inicial, en el siguiente for loop se remueven los \n",
    "    for i in Code:                                #elementos del Codigo para que no sean repetidos en el momento\n",
    "        sample_list.remove(i)                     #de asignarlos a la pista.  \n",
    "        \n",
    "    pista4 = random.sample(sample_list, 2)        #De la lista anterior, se toman 2 numeros para asignarle a la pista\n",
    "    pista4.append((correct_number))               #y se le asigna el numero correcto al final de la lista, despues de\n",
    "    random.shuffle(pista4)                        #eso se mueven los valores de forma aleatoria con el proposito de\n",
    "                                                  #que el numero correcto no quede en la ultima posicion.\n",
    "    \n",
    "    for i in range(len(Code)):                    #Dentro de este for loop se checa si el numero correcto no queda en\n",
    "        while pista4[i] == Code[i]:               #la misma posicion que un numero dentro del codigo original, si se\n",
    "            random.shuffle(pista4)                #cumple True, se vuelven a mover los valores.\n",
    "          \n",
    "    return pista4"
   ]
  },
  {
   "cell_type": "code",
   "execution_count": 9,
   "metadata": {},
   "outputs": [],
   "source": [
    "def pista5(Code):                                 #Crear funcion pista 5 (Dos numeros estan bien pero mal ubicados)\n",
    "    \n",
    "    pista5 = random.sample(Code, 2)               #Crea una lista con 2 numeros aleatorios de Code, al usar la funcion\n",
    "                                                  #sample los numeros no se repiten.\n",
    "    \n",
    "    sample_list = list(range(10))                 #Crea lista inicial, en el siguiente for loop se remueven los \n",
    "    for i in Code:                                #elementos del Codigo para que no sean repetidos en el momento\n",
    "        sample_list.remove(i)                     #de asignarlos a la pista.  \n",
    "        \n",
    "    random_number = random.choice(sample_list)    #De la lista anterior, se toma 1 numero para asignarle a la pista\n",
    "    pista5.append((random_number))                #y se le asigna el numero incorrecto al final de la lista.\n",
    "    \n",
    "    for i in range(len(Code)):                    #Dentro de este for loop se checa si los numeros correctos no quedan\n",
    "        while pista5[i] == Code[i]:               #en la misma posicion que los numeros dentro del codigo original, si \n",
    "            random.shuffle(pista5)                #se cumple True, se vuelven a mover los valores.\n",
    "          \n",
    "    return pista5"
   ]
  },
  {
   "cell_type": "code",
   "execution_count": 10,
   "metadata": {
    "scrolled": true
   },
   "outputs": [
    {
     "name": "stdout",
     "output_type": "stream",
     "text": [
      "[4, 1, 6]\n",
      "[8, 0, 6] Pista 1, numero bien posicionado\n",
      "[9, 2, 4] Pista 2, numero bien, mal posicionado\n",
      "[5, 8, 3] Pista 3, ningun numero bien\n",
      "[1, 7, 2] Pista 4, numero bien, mal posicionado\n",
      "[1, 4, 0] Pista 5, dos numeros bien, mal posicionados\n"
     ]
    }
   ],
   "source": [
    "print(Code)\n",
    "print(pista1(Code), 'Pista 1, numero bien posicionado')\n",
    "print(pista2(Code), 'Pista 2, numero bien, mal posicionado')\n",
    "print(pista3(Code), 'Pista 3, ningun numero bien')\n",
    "print(pista4(Code), 'Pista 4, numero bien, mal posicionado')\n",
    "print(pista5(Code), 'Pista 5, dos numeros bien, mal posicionados')"
   ]
  },
  {
   "cell_type": "code",
   "execution_count": 41,
   "metadata": {},
   "outputs": [
    {
     "name": "stdout",
     "output_type": "stream",
     "text": [
      "Tienes 3 intentos para adivinar el codigo.\n",
      "Porfavor ingresa 3 digitos1,4,5\n",
      "Please enter a valid 3 digit code\n",
      "Tienes 3 intentos para adivinar el codigo.\n",
      "Porfavor ingresa 3 digitos123\n",
      "Tienes 2 intentos para adivinar el codigo.\n",
      "Porfavor ingresa 3 digitosasd\n",
      "Please enter a valid 3 digit code\n",
      "Tienes 2 intentos para adivinar el codigo.\n",
      "Porfavor ingresa 3 digitos163\n",
      "Tienes 1 intentos para adivinar el codigo.\n"
     ]
    },
    {
     "ename": "KeyboardInterrupt",
     "evalue": "Interrupted by user",
     "output_type": "error",
     "traceback": [
      "\u001b[1;31m---------------------------------------------------------------------------\u001b[0m",
      "\u001b[1;31mKeyboardInterrupt\u001b[0m                         Traceback (most recent call last)",
      "\u001b[1;32m<ipython-input-41-e681b5dcc185>\u001b[0m in \u001b[0;36m<module>\u001b[1;34m\u001b[0m\n\u001b[0;32m      2\u001b[0m \u001b[1;32mwhile\u001b[0m \u001b[0muser_tries\u001b[0m \u001b[1;33m<\u001b[0m \u001b[1;36m3\u001b[0m\u001b[1;33m:\u001b[0m\u001b[1;33m\u001b[0m\u001b[1;33m\u001b[0m\u001b[0m\n\u001b[0;32m      3\u001b[0m     \u001b[0mprint\u001b[0m\u001b[1;33m(\u001b[0m\u001b[1;34m'Tienes'\u001b[0m\u001b[1;33m,\u001b[0m \u001b[1;36m3\u001b[0m \u001b[1;33m-\u001b[0m \u001b[0muser_tries\u001b[0m\u001b[1;33m,\u001b[0m \u001b[1;34m'intentos para adivinar el codigo.'\u001b[0m\u001b[1;33m)\u001b[0m\u001b[1;33m\u001b[0m\u001b[1;33m\u001b[0m\u001b[0m\n\u001b[1;32m----> 4\u001b[1;33m     \u001b[0muser_code\u001b[0m \u001b[1;33m=\u001b[0m \u001b[0minput\u001b[0m\u001b[1;33m(\u001b[0m\u001b[1;34m'Porfavor ingresa 3 digitos'\u001b[0m\u001b[1;33m)\u001b[0m\u001b[1;33m\u001b[0m\u001b[1;33m\u001b[0m\u001b[0m\n\u001b[0m\u001b[0;32m      5\u001b[0m     \u001b[1;32mif\u001b[0m \u001b[0muser_code\u001b[0m\u001b[1;33m.\u001b[0m\u001b[0misdigit\u001b[0m\u001b[1;33m(\u001b[0m\u001b[1;33m)\u001b[0m \u001b[1;32mand\u001b[0m \u001b[0mlen\u001b[0m\u001b[1;33m(\u001b[0m\u001b[0muser_code\u001b[0m\u001b[1;33m)\u001b[0m \u001b[1;33m==\u001b[0m \u001b[1;36m3\u001b[0m\u001b[1;33m:\u001b[0m\u001b[1;33m\u001b[0m\u001b[1;33m\u001b[0m\u001b[0m\n\u001b[0;32m      6\u001b[0m         \u001b[0muser_code\u001b[0m \u001b[1;33m=\u001b[0m \u001b[1;33m[\u001b[0m\u001b[0mint\u001b[0m\u001b[1;33m(\u001b[0m\u001b[0mx\u001b[0m\u001b[1;33m)\u001b[0m \u001b[1;32mfor\u001b[0m \u001b[0mx\u001b[0m \u001b[1;32min\u001b[0m \u001b[0muser_code\u001b[0m\u001b[1;33m]\u001b[0m\u001b[1;33m\u001b[0m\u001b[1;33m\u001b[0m\u001b[0m\n",
      "\u001b[1;32mE:\\agsan\\anaconda\\lib\\site-packages\\ipykernel\\kernelbase.py\u001b[0m in \u001b[0;36mraw_input\u001b[1;34m(self, prompt)\u001b[0m\n\u001b[0;32m    858\u001b[0m                 \u001b[1;34m\"raw_input was called, but this frontend does not support input requests.\"\u001b[0m\u001b[1;33m\u001b[0m\u001b[1;33m\u001b[0m\u001b[0m\n\u001b[0;32m    859\u001b[0m             )\n\u001b[1;32m--> 860\u001b[1;33m         return self._input_request(str(prompt),\n\u001b[0m\u001b[0;32m    861\u001b[0m             \u001b[0mself\u001b[0m\u001b[1;33m.\u001b[0m\u001b[0m_parent_ident\u001b[0m\u001b[1;33m,\u001b[0m\u001b[1;33m\u001b[0m\u001b[1;33m\u001b[0m\u001b[0m\n\u001b[0;32m    862\u001b[0m             \u001b[0mself\u001b[0m\u001b[1;33m.\u001b[0m\u001b[0m_parent_header\u001b[0m\u001b[1;33m,\u001b[0m\u001b[1;33m\u001b[0m\u001b[1;33m\u001b[0m\u001b[0m\n",
      "\u001b[1;32mE:\\agsan\\anaconda\\lib\\site-packages\\ipykernel\\kernelbase.py\u001b[0m in \u001b[0;36m_input_request\u001b[1;34m(self, prompt, ident, parent, password)\u001b[0m\n\u001b[0;32m    902\u001b[0m             \u001b[1;32mexcept\u001b[0m \u001b[0mKeyboardInterrupt\u001b[0m\u001b[1;33m:\u001b[0m\u001b[1;33m\u001b[0m\u001b[1;33m\u001b[0m\u001b[0m\n\u001b[0;32m    903\u001b[0m                 \u001b[1;31m# re-raise KeyboardInterrupt, to truncate traceback\u001b[0m\u001b[1;33m\u001b[0m\u001b[1;33m\u001b[0m\u001b[1;33m\u001b[0m\u001b[0m\n\u001b[1;32m--> 904\u001b[1;33m                 \u001b[1;32mraise\u001b[0m \u001b[0mKeyboardInterrupt\u001b[0m\u001b[1;33m(\u001b[0m\u001b[1;34m\"Interrupted by user\"\u001b[0m\u001b[1;33m)\u001b[0m \u001b[1;32mfrom\u001b[0m \u001b[1;32mNone\u001b[0m\u001b[1;33m\u001b[0m\u001b[1;33m\u001b[0m\u001b[0m\n\u001b[0m\u001b[0;32m    905\u001b[0m             \u001b[1;32mexcept\u001b[0m \u001b[0mException\u001b[0m \u001b[1;32mas\u001b[0m \u001b[0me\u001b[0m\u001b[1;33m:\u001b[0m\u001b[1;33m\u001b[0m\u001b[1;33m\u001b[0m\u001b[0m\n\u001b[0;32m    906\u001b[0m                 \u001b[0mself\u001b[0m\u001b[1;33m.\u001b[0m\u001b[0mlog\u001b[0m\u001b[1;33m.\u001b[0m\u001b[0mwarning\u001b[0m\u001b[1;33m(\u001b[0m\u001b[1;34m\"Invalid Message:\"\u001b[0m\u001b[1;33m,\u001b[0m \u001b[0mexc_info\u001b[0m\u001b[1;33m=\u001b[0m\u001b[1;32mTrue\u001b[0m\u001b[1;33m)\u001b[0m\u001b[1;33m\u001b[0m\u001b[1;33m\u001b[0m\u001b[0m\n",
      "\u001b[1;31mKeyboardInterrupt\u001b[0m: Interrupted by user"
     ]
    }
   ],
   "source": [
    "user_tries = 0\n",
    "\n",
    "while user_tries < 3:\n",
    "    \n",
    "    print('Tienes', 3 - user_tries, 'intentos para adivinar el codigo.')\n",
    "    \n",
    "    user_code = input('Porfavor ingresa 3 digitos')\n",
    "    if user_code.isdigit() and len(user_code) == 3:\n",
    "        user_code = [int(x) for x in user_code]\n",
    "        \n",
    "        if user_code == Code:\n",
    "            print('Felicidades, ganaste')\n",
    "            break\n",
    "            \n",
    "        elif user_tries == 2:\n",
    "            user_tries +=1\n",
    "            print('Te has quedado sin intentos')\n",
    "            break\n",
    "            \n",
    "        else:\n",
    "            user_tries +=1\n",
    "\n",
    "    else:\n",
    "        print('Porfavor ingresa un codigo valido de 3 digitos')\n",
    "        "
   ]
  },
  {
   "cell_type": "code",
   "execution_count": 1,
   "metadata": {},
   "outputs": [
    {
     "ename": "ModuleNotFoundError",
     "evalue": "No module named 'PySimpleGUI'",
     "output_type": "error",
     "traceback": [
      "\u001b[1;31m---------------------------------------------------------------------------\u001b[0m",
      "\u001b[1;31mModuleNotFoundError\u001b[0m                       Traceback (most recent call last)",
      "\u001b[1;32m<ipython-input-1-166939a11b4e>\u001b[0m in \u001b[0;36m<module>\u001b[1;34m\u001b[0m\n\u001b[1;32m----> 1\u001b[1;33m \u001b[1;32mimport\u001b[0m \u001b[0mPySimpleGUI\u001b[0m \u001b[1;32mas\u001b[0m \u001b[0msg\u001b[0m\u001b[1;33m\u001b[0m\u001b[1;33m\u001b[0m\u001b[0m\n\u001b[0m",
      "\u001b[1;31mModuleNotFoundError\u001b[0m: No module named 'PySimpleGUI'"
     ]
    }
   ],
   "source": [
    "import PySimpleGUI as sg"
   ]
  },
  {
   "cell_type": "code",
   "execution_count": null,
   "metadata": {},
   "outputs": [],
   "source": []
  }
 ],
 "metadata": {
  "kernelspec": {
   "display_name": "Python 3",
   "language": "python",
   "name": "python3"
  },
  "language_info": {
   "codemirror_mode": {
    "name": "ipython",
    "version": 3
   },
   "file_extension": ".py",
   "mimetype": "text/x-python",
   "name": "python",
   "nbconvert_exporter": "python",
   "pygments_lexer": "ipython3",
   "version": "3.8.5"
  }
 },
 "nbformat": 4,
 "nbformat_minor": 4
}
