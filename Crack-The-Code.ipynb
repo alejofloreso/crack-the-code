{
 "cells": [
  {
   "cell_type": "code",
   "execution_count": 28,
   "metadata": {},
   "outputs": [],
   "source": [
    "import random"
   ]
  },
  {
   "cell_type": "code",
   "execution_count": 29,
   "metadata": {},
   "outputs": [],
   "source": [
    "def randomNumberLock():\n",
    "    lock_code = random.sample(range(0, 9), 3)\n",
    "    return lock_code"
   ]
  },
  {
   "cell_type": "code",
   "execution_count": 30,
   "metadata": {},
   "outputs": [
    {
     "name": "stdout",
     "output_type": "stream",
     "text": [
      "[7, 2, 1]\n"
     ]
    }
   ],
   "source": [
    "Code = randomNumberLock()\n",
    "print(Code)"
   ]
  },
  {
   "cell_type": "code",
   "execution_count": 11,
   "metadata": {},
   "outputs": [],
   "source": [
    "def pista1(Code):                                 #Crear funcion pista 1 (Numero esta bien y bien ubicado)\n",
    "    \n",
    "    correct_number = random.choice(Code)          #random.choice elige un numero al azar de la lista de Codigo, \n",
    "                                                  #generando un numero correcto que se le es asignado a correct_number.\n",
    "    \n",
    "    sample_list = list(range(10))                 #Crea lista inicial, en el siguiente for loop se remueven los \n",
    "    for i in Code:                                #elementos del Codigo para que no sean repetidos en el momento\n",
    "        sample_list.remove(i)                     #de asignarlos a la pista.  \n",
    "        \n",
    "    pista1 = random.sample(sample_list, 2)        #De la lista anterior, se toman 2 numeros para asignarle a la pista\n",
    "    pista1.append((correct_number))               #y se le asigna el numero correcto al final de la lista.\n",
    "\n",
    "    for n in Code:                                              #Este nested for loop compara individualmente cada \n",
    "        for i in range(len(pista1)):                            #numero en Code con todos los numeros de la pista1\n",
    "            if n == pista1[i]:                                  #para encontrar el numero correcto y posicionarlo\n",
    "                j = Code.index(n)                               #en la posicion correcta mediante los indices.\n",
    "                pista1[i], pista1[j] = pista1[j], pista1[i]\n",
    "                break\n",
    "\n",
    "    return pista1"
   ]
  },
  {
   "cell_type": "code",
   "execution_count": 12,
   "metadata": {},
   "outputs": [],
   "source": [
    "def pista2(Code):                                 #Crear funcion pista 2 (Numero esta bien pero mal ubicado)\n",
    "    \n",
    "    global correct_number2                        #Se declara la variable como global para la pista 4\n",
    "    \n",
    "    correct_number2 = random.choice(Code)         #random.choice elige un numero al azar de la lista de Codigo, \n",
    "                                                  #generando un numero correcto que se le es asignado a correct_number.\n",
    "    \n",
    "    sample_list = list(range(10))                 #Crea lista inicial, en el siguiente for loop se remueven los \n",
    "    for i in Code:                                #elementos del Codigo para que no sean repetidos en el momento\n",
    "        sample_list.remove(i)                     #de asignarlos a la pista.  \n",
    "        \n",
    "    pista2 = random.sample(sample_list, 2)        #De la lista anterior, se toman 2 numeros para asignarle a la pista\n",
    "    pista2.append((correct_number2))              #y se le asigna el numero correcto al final de la lista, despues de\n",
    "    random.shuffle(pista2)                        #eso se mueven los valores de forma aleatoria con el proposito de\n",
    "                                                  #que el numero correcto no quede en la ultima posicion.\n",
    "    \n",
    "    for i in range(len(Code)):                    #Dentro de este for loop se checa si el numero correcto no queda en\n",
    "        while pista2[i] == Code[i]:               #la misma posicion que un numero dentro del codigo original, si se\n",
    "            random.shuffle(pista2)                #cumple True, se vuelven a mover los valores.\n",
    "          \n",
    "    return pista2"
   ]
  },
  {
   "cell_type": "code",
   "execution_count": 13,
   "metadata": {},
   "outputs": [],
   "source": [
    "def pista3(Code):                                 #Crear funcion pista 3 (Ningun numero esta bien)\n",
    "    \n",
    "    sample_list = list(range(10))                 #Crea lista inicial, en el siguiente for loop se remueven los \n",
    "    for i in Code:                                #elementos del Codigo para que no sean repetidos en el momento\n",
    "        sample_list.remove(i)                     #de asignarlos a la pista. \n",
    "\n",
    "    pista3 = random.sample(sample_list, 3)        #Asigna 3 numeros aleatorios de la lista.\n",
    "           \n",
    "    return pista3"
   ]
  },
  {
   "cell_type": "code",
   "execution_count": 14,
   "metadata": {},
   "outputs": [],
   "source": [
    "def pista4(Code):                                 #Crear funcion pista 4 (Numero esta bien pero mal ubicado)\n",
    "    \n",
    "    numbers = random.sample(Code, 3)              #Se crea una nueva lista conteniendo los numeros del codigo y se\n",
    "    global correct_number2                        #llama a la funcion global para quitar de la lista el numero que\n",
    "    numbers.remove(correct_number2)               #se utilizo para la pista 2.\n",
    "    \n",
    "    correct_number = random.choice(numbers)       #random.choice elige un numero al azar de la nueva lista numbers y se \n",
    "                                                  #generando un numero correcto que se le es asignado a correct_number.\n",
    "    \n",
    "    sample_list = list(range(10))                 #Crea lista inicial, en el siguiente for loop se remueven los \n",
    "    for i in Code:                                #elementos del Codigo para que no sean repetidos en el momento\n",
    "        sample_list.remove(i)                     #de asignarlos a la pista.  \n",
    "        \n",
    "    pista4 = random.sample(sample_list, 2)        #De la lista anterior, se toman 2 numeros para asignarle a la pista\n",
    "    pista4.append((correct_number))               #y se le asigna el numero correcto al final de la lista, despues de\n",
    "    random.shuffle(pista4)                        #eso se mueven los valores de forma aleatoria con el proposito de\n",
    "                                                  #que el numero correcto no quede en la ultima posicion.\n",
    "    \n",
    "    for i in range(len(Code)):                    #Dentro de este for loop se checa si el numero correcto no queda en\n",
    "        while pista4[i] == Code[i]:               #la misma posicion que un numero dentro del codigo original, si se\n",
    "            random.shuffle(pista4)                #cumple True, se vuelven a mover los valores.\n",
    "          \n",
    "    return pista4"
   ]
  },
  {
   "cell_type": "code",
   "execution_count": 15,
   "metadata": {},
   "outputs": [],
   "source": [
    "def pista5(Code):                                 #Crear funcion pista 5 (Dos numeros estan bien pero mal ubicados)\n",
    "    \n",
    "    pista5 = random.sample(Code, 2)               #Crea una lista con 2 numeros aleatorios de Code, al usar la funcion\n",
    "                                                  #sample los numeros no se repiten.\n",
    "    \n",
    "    sample_list = list(range(10))                 #Crea lista inicial, en el siguiente for loop se remueven los \n",
    "    for i in Code:                                #elementos del Codigo para que no sean repetidos en el momento\n",
    "        sample_list.remove(i)                     #de asignarlos a la pista.  \n",
    "        \n",
    "    random_number = random.choice(sample_list)    #De la lista anterior, se toma 1 numero para asignarle a la pista\n",
    "    pista5.append((random_number))                #y se le asigna el numero incorrecto al final de la lista.\n",
    "    \n",
    "    for i in range(len(Code)):                    #Dentro de este for loop se checa si los numeros correctos no quedan\n",
    "        while pista5[i] == Code[i]:               #en la misma posicion que los numeros dentro del codigo original, si \n",
    "            random.shuffle(pista5)                #se cumple True, se vuelven a mover los valores.\n",
    "          \n",
    "    return pista5"
   ]
  },
  {
   "cell_type": "code",
   "execution_count": 43,
   "metadata": {
    "scrolled": true
   },
   "outputs": [
    {
     "name": "stdout",
     "output_type": "stream",
     "text": [
      "[7, 2, 1]\n",
      "[4, 2, 5] Pista 1, numero bien posicionado\n",
      "[2, 3, 4] Pista 2, numero bien, mal posicionado\n",
      "[9, 8, 4] Pista 3, ningun numero bien\n",
      "[9, 1, 6] Pista 4, numero bien, mal posicionado\n",
      "[1, 7, 9] Pista 5, dos numeros bien, mal posicionados\n"
     ]
    }
   ],
   "source": [
    "print(Code)\n",
    "print(pista1(Code), 'Pista 1, numero bien posicionado')\n",
    "print(pista2(Code), 'Pista 2, numero bien, mal posicionado')\n",
    "print(pista3(Code), 'Pista 3, ningun numero bien')\n",
    "print(pista4(Code), 'Pista 4, numero bien, mal posicionado')\n",
    "print(pista5(Code), 'Pista 5, dos numeros bien, mal posicionados')"
   ]
  },
  {
   "cell_type": "code",
   "execution_count": null,
   "metadata": {},
   "outputs": [],
   "source": [
    "user_code = [input('Porfavor ingresa 3 digitos')]\n",
    "user_tries = 0\n",
    "\n",
    "if user_tries < 3:\n",
    "    if user_code == Code:\n",
    "        print('Felicidades, ganaste')\n",
    "    elif user_tries == 3:\n",
    "        print('Te has quedado sin intentos')\n",
    "    else:\n",
    "        user_tries +=1\n",
    "        print('Te quedan', 3 - user_tries, 'intentos.')"
   ]
  },
  {
   "cell_type": "code",
   "execution_count": null,
   "metadata": {},
   "outputs": [],
   "source": [
    "for i in ['a','b','c']: #referencia\n",
    "    try:\n",
    "        print (i**2)\n",
    "    except TypeError:\n",
    "        print('Not a number')\n",
    "    else:\n",
    "        print('It is a number')\n"
   ]
  }
 ],
 "metadata": {
  "kernelspec": {
   "display_name": "Python 3",
   "language": "python",
   "name": "python3"
  },
  "language_info": {
   "codemirror_mode": {
    "name": "ipython",
    "version": 3
   },
   "file_extension": ".py",
   "mimetype": "text/x-python",
   "name": "python",
   "nbconvert_exporter": "python",
   "pygments_lexer": "ipython3",
   "version": "3.8.5"
  }
 },
 "nbformat": 4,
 "nbformat_minor": 4
}
