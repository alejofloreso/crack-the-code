{
 "cells": [
  {
   "cell_type": "code",
   "execution_count": 1,
   "metadata": {},
   "outputs": [],
   "source": [
    "import random"
   ]
  },
  {
   "cell_type": "code",
   "execution_count": 2,
   "metadata": {},
   "outputs": [],
   "source": [
    "def randomNumberLock():\n",
    "\n",
    "    lock_code = random.sample(range(0, 9), 3)\n",
    "    return lock_code"
   ]
  },
  {
   "cell_type": "code",
   "execution_count": 3,
   "metadata": {},
   "outputs": [
    {
     "name": "stdout",
     "output_type": "stream",
     "text": [
      "[1, 6, 3]\n"
     ]
    }
   ],
   "source": [
    "Code = randomNumberLock()\n",
    "print(Code)"
   ]
  },
  {
   "cell_type": "code",
   "execution_count": 18,
   "metadata": {},
   "outputs": [],
   "source": [
    "#Crear funcion pista 2 (Numero esta bien pero mal ubicado)\n",
    "def pista2(Code):\n",
    "    correct_number = Code[random.randint(0, 2)]\n",
    "    numbers_to_remove = Code\n",
    "    numbers_to_random = random.sample(numbers_to_remove, 3)  #Selecciona los numeros a modificar\n",
    "    sample_list = [0, 1, 2, 3, 4, 5, 6, 7, 8, 9] #lista para usar random.sample\n",
    "    for i in numbers_to_random: #for loop para sacar los elementos a modificar de la sample_list\"\n",
    "        sample_list.remove(i)\n",
    "    shuffled_list = random.sample(sample_list, 2)\n",
    "    shuffled_list.append((correct_number))\n",
    "    random.shuffle(shuffled_list)\n",
    "    while Code[0] == shuffled_list[0]: #while cluster para shufflear la lista hasta que no matcheen los valores\n",
    "        random.shuffle(shuffled_list)\n",
    "    while Code[1] == shuffled_list[1]:\n",
    "        random.shuffle(shuffled_list)\n",
    "    while Code[2] == shuffled_list[2]:\n",
    "        random.shuffle(shuffled_list)\n",
    "        \n",
    "    return shuffled_list\n",
    "\n",
    "\n",
    "    \n",
    "    "
   ]
  },
  {
   "cell_type": "code",
   "execution_count": 43,
   "metadata": {},
   "outputs": [
    {
     "name": "stdout",
     "output_type": "stream",
     "text": [
      "[1, 6, 3]\n",
      "[7, 1, 0]\n"
     ]
    }
   ],
   "source": [
    "print (Code)\n",
    "print (pista2(Code))"
   ]
  },
  {
   "cell_type": "code",
   "execution_count": null,
   "metadata": {},
   "outputs": [],
   "source": []
  }
 ],
 "metadata": {
  "kernelspec": {
   "display_name": "Python 3",
   "language": "python",
   "name": "python3"
  },
  "language_info": {
   "codemirror_mode": {
    "name": "ipython",
    "version": 3
   },
   "file_extension": ".py",
   "mimetype": "text/x-python",
   "name": "python",
   "nbconvert_exporter": "python",
   "pygments_lexer": "ipython3",
   "version": "3.8.5"
  }
 },
 "nbformat": 4,
 "nbformat_minor": 4
}
